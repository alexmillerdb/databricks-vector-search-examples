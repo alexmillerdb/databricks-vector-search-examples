{
 "cells": [
  {
   "cell_type": "raw",
   "metadata": {
    "vscode": {
     "languageId": "raw"
    }
   },
   "source": [
    "# Create Vector Search Index\n",
    "\n",
    "This notebook demonstrates how to create a Databricks Vector Search index using the Databricks Vector Search client. The notebook will:\n",
    "\n",
    "1. Install required dependencies\n",
    "2. Configure the vector search parameters\n",
    "3. Create a vector search endpoint (if it doesn't exist)\n",
    "4. Create or update a vector search index\n",
    "\n",
    "## Prerequisites\n",
    "\n",
    "- Access to a Databricks workspace with Vector Search enabled\n",
    "- Source table with embeddings data (created in previous notebooks)\n",
    "- Appropriate permissions to create endpoints and indexes\n",
    "\n",
    "## Configuration\n",
    "\n",
    "Before running this notebook, ensure you have:\n",
    "- A Unity Catalog with the appropriate schema\n",
    "- A source table containing embeddings data\n",
    "- Valid endpoint configuration\n"
   ]
  },
  {
   "cell_type": "raw",
   "metadata": {
    "vscode": {
     "languageId": "raw"
    }
   },
   "source": [
    "## Step 1: Install Dependencies\n",
    "\n",
    "First, we need to install the Databricks Vector Search client library. This provides the necessary tools to interact with Vector Search endpoints and indexes.\n"
   ]
  },
  {
   "cell_type": "code",
   "execution_count": 0,
   "metadata": {
    "application/vnd.databricks.v1+cell": {
     "cellMetadata": {
      "byteLimit": 2048000,
      "rowLimit": 10000
     },
     "inputWidgets": {},
     "nuid": "2110e40a-5c0d-43c5-8443-4bbb18067ab1",
     "showTitle": false,
     "tableResultSettingsMap": {},
     "title": ""
    }
   },
   "outputs": [],
   "source": [
    "%pip install databricks-vectorsearch\n",
    "dbutils.library.restartPython()"
   ]
  },
  {
   "cell_type": "raw",
   "metadata": {
    "vscode": {
     "languageId": "raw"
    }
   },
   "source": [
    "## Step 2: Configuration Parameters\n",
    "\n",
    "Configure the following parameters for your Vector Search setup:\n",
    "\n",
    "- **UC_CATALOG**: Unity Catalog name where your data is stored\n",
    "- **UC_SCHEMA**: Schema within the catalog containing your tables\n",
    "- **VS_INDEX_NAME**: Name for your vector search index\n",
    "- **SOURCE_TABLE**: Full name of the table containing your embeddings\n",
    "- **VECTOR_SEARCH_ENDPOINT**: Name of the vector search endpoint to create/use\n",
    "- **ENDPOINT_TYPE**: Type of endpoint (STORAGE_OPTIMIZED or STANDARD)\n",
    "- **EMBEDDING_DIMENSION**: Dimension of your embedding vectors (must match your data)\n",
    "- **update_index**: Set to True if you want to sync an existing index\n"
   ]
  },
  {
   "cell_type": "code",
   "execution_count": 0,
   "metadata": {
    "application/vnd.databricks.v1+cell": {
     "cellMetadata": {
      "byteLimit": 2048000,
      "rowLimit": 10000
     },
     "inputWidgets": {},
     "nuid": "b013cadd-7221-43e8-9230-ad5d82c61ecf",
     "showTitle": false,
     "tableResultSettingsMap": {},
     "title": ""
    }
   },
   "outputs": [],
   "source": [
    "# UC CATALOG, SCHEMA, INDEX\n",
    "UC_CATALOG = \"users\"\n",
    "UC_SCHEMA = \"alex_miller\"\n",
    "VS_INDEX_NAME = \"vs_batch_example\"\n",
    "SOURCE_TABLE = f\"{UC_CATALOG}.{UC_SCHEMA}.imdb_embeddings\"\n",
    "\n",
    "# VS Endpoint Name\n",
    "VECTOR_SEARCH_ENDPOINT = \"abs_test_temp\"\n",
    "ENDPOINT_TYPE = \"STORAGE_OPTIMIZED\"  # or STANDARD\n",
    "\n",
    "# Index-Name\n",
    "VECTOR_SEARCH_INDEX = f\"{UC_CATALOG}.{UC_SCHEMA}.{VS_INDEX_NAME}\"\n",
    "\n",
    "# Embedding Dimensions\n",
    "EMBEDDING_DIMENSION = 1024\n",
    "\n",
    "# Update sync \n",
    "update_index = False"
   ]
  },
  {
   "cell_type": "raw",
   "metadata": {
    "vscode": {
     "languageId": "raw"
    }
   },
   "source": [
    "## Step 3: Initialize Vector Search Client and Create Endpoint\n",
    "\n",
    "Initialize the Vector Search client and create the endpoint if it doesn't already exist. \n",
    "\n",
    "The client handles authentication automatically using:\n",
    "- **Default**: Personal Access Token (PAT) authentication\n",
    "- **Alternative**: Service principal authentication (commented out)\n",
    "\n",
    "The endpoint is the compute resource that will serve your vector search requests.\n"
   ]
  },
  {
   "cell_type": "code",
   "execution_count": 0,
   "metadata": {
    "application/vnd.databricks.v1+cell": {
     "cellMetadata": {
      "byteLimit": 2048000,
      "rowLimit": 10000
     },
     "inputWidgets": {},
     "nuid": "2e0c161c-b6fb-4671-b0c3-aec8a1ac7974",
     "showTitle": false,
     "tableResultSettingsMap": {},
     "title": ""
    }
   },
   "outputs": [],
   "source": [
    "from databricks.vector_search.client import VectorSearchClient\n",
    "\n",
    "# The following line automatically generates a PAT Token for authentication\n",
    "client = VectorSearchClient()\n",
    "\n",
    "# The following line uses the service principal token for authentication\n",
    "# client = VectorSearchClient(service_principal_client_id=<CLIENT_ID>,service_principal_client_secret=<CLIENT_SECRET>)\n",
    "if client.list_endpoints().get(\"name\", VECTOR_SEARCH_ENDPOINT):\n",
    "  print(\"Endpoint already created.....\")\n",
    "else:\n",
    "  print(f\"Creating endpoint {VECTOR_SEARCH_ENDPOINT}\")\n",
    "  client.create_endpoint_and_wait(\n",
    "      name=VECTOR_SEARCH_ENDPOINT,\n",
    "      endpoint_type=ENDPOINT_TYPE\n",
    "  )"
   ]
  },
  {
   "cell_type": "raw",
   "metadata": {
    "vscode": {
     "languageId": "raw"
    }
   },
   "source": [
    "## Step 4: Create or Update Vector Search Index\n",
    "\n",
    "This section handles the creation or updating of your vector search index:\n",
    "\n",
    "1. **Check if index exists**: Lists all indexes on the endpoint and checks if our target index already exists\n",
    "2. **Create new index**: If the index doesn't exist, creates a new delta sync index with the specified configuration\n",
    "3. **Update existing index**: If the index exists and `update_index` is True, syncs the index with the latest data\n",
    "\n",
    "### Index Configuration Parameters:\n",
    "- **endpoint_name**: The endpoint that will host this index\n",
    "- **source_table_name**: Unity Catalog table containing your embeddings\n",
    "- **index_name**: Full name of the index to create\n",
    "- **pipeline_type**: Set to \"TRIGGERED\" for manual sync control\n",
    "- **primary_key**: Unique identifier column in your source table\n",
    "- **embedding_dimension**: Must match the dimension of your embedding vectors\n",
    "- **embedding_vector_column**: Column name containing the embedding vectors\n",
    "\n",
    "### Expected Outcome:\n",
    "After successful execution, you will have a vector search index that can be queried for similarity search operations.\n"
   ]
  },
  {
   "cell_type": "code",
   "execution_count": 0,
   "metadata": {
    "application/vnd.databricks.v1+cell": {
     "cellMetadata": {
      "byteLimit": 2048000,
      "rowLimit": 10000
     },
     "inputWidgets": {},
     "nuid": "59d94176-4d31-4f2b-8acc-885cd15e10d6",
     "showTitle": false,
     "tableResultSettingsMap": {},
     "title": ""
    }
   },
   "outputs": [],
   "source": [
    "indexes_list = client.list_indexes(VECTOR_SEARCH_ENDPOINT).get(\"vector_indexes\")\n",
    "try:\n",
    "  for index in indexes_list:\n",
    "    if index.get(\"name\", VECTOR_SEARCH_INDEX) == VECTOR_SEARCH_INDEX:\n",
    "      index_created = True\n",
    "      index = client.get_index(index_name=VECTOR_SEARCH_INDEX)\n",
    "      break\n",
    "except TypeError:\n",
    "  index_created = False\n",
    "\n",
    "if index_created:\n",
    "  print(f\"{VECTOR_SEARCH_INDEX} already exists.....\")\n",
    "  if update_index:\n",
    "    print(f\"Updating index {VECTOR_SEARCH_INDEX}\")\n",
    "    index.sync()\n",
    "else:\n",
    "  print(f\"Creating index {VECTOR_SEARCH_INDEX}\")\n",
    "  index = client.create_delta_sync_index_and_wait(\n",
    "    endpoint_name=VECTOR_SEARCH_ENDPOINT,\n",
    "    source_table_name=SOURCE_TABLE,\n",
    "    index_name=VECTOR_SEARCH_INDEX,\n",
    "    pipeline_type=\"TRIGGERED\",\n",
    "    primary_key=\"id\",\n",
    "    embedding_dimension=1024,\n",
    "    embedding_vector_column=\"embeddings\"\n",
    "  )"
   ]
  },
  {
   "cell_type": "raw",
   "metadata": {
    "vscode": {
     "languageId": "raw"
    }
   },
   "source": [
    "## Next Steps\n",
    "\n",
    "Once your vector search index is created, you can:\n",
    "\n",
    "1. **Query the index**: Use the Vector Search client to perform similarity searches\n",
    "2. **Monitor index status**: Check the index sync status and health\n",
    "3. **Update data**: Trigger index syncs when your source data changes\n",
    "4. **Integrate with applications**: Use the index in your ML pipelines or applications\n",
    "\n",
    "## Important Notes\n",
    "\n",
    "- **Index creation time**: Initial index creation may take several minutes depending on data size\n",
    "- **Sync frequency**: For delta sync indexes, you control when data is refreshed\n",
    "- **Endpoint management**: Endpoints can host multiple indexes\n",
    "- **Cost considerations**: Storage-optimized endpoints are more cost-effective for large datasets\n",
    "\n",
    "For more information, refer to the [Databricks Vector Search documentation](https://docs.databricks.com/en/generative-ai/vector-search.html).\n"
   ]
  }
 ],
 "metadata": {
  "application/vnd.databricks.v1+notebook": {
   "computePreferences": null,
   "dashboards": [],
   "environmentMetadata": {
    "base_environment": "dbe_c75093c8-0895-475e-8c1b-6acacfe3368b",
    "environment_version": "2"
   },
   "inputWidgetPreferences": null,
   "language": "python",
   "notebookMetadata": {
    "pythonIndentUnit": 2
   },
   "notebookName": "02-create-vector-search-index",
   "widgets": {}
  },
  "language_info": {
   "name": "python"
  }
 },
 "nbformat": 4,
 "nbformat_minor": 0
}
