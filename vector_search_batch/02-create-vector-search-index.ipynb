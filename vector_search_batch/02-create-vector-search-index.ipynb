{
 "cells": [
  {
   "cell_type": "code",
   "execution_count": 0,
   "metadata": {
    "application/vnd.databricks.v1+cell": {
     "cellMetadata": {
      "byteLimit": 2048000,
      "rowLimit": 10000
     },
     "inputWidgets": {},
     "nuid": "2110e40a-5c0d-43c5-8443-4bbb18067ab1",
     "showTitle": false,
     "tableResultSettingsMap": {},
     "title": ""
    }
   },
   "outputs": [],
   "source": [
    "%pip install databricks-vectorsearch\n",
    "dbutils.library.restartPython()"
   ]
  },
  {
   "cell_type": "code",
   "execution_count": 0,
   "metadata": {
    "application/vnd.databricks.v1+cell": {
     "cellMetadata": {
      "byteLimit": 2048000,
      "rowLimit": 10000
     },
     "inputWidgets": {},
     "nuid": "b013cadd-7221-43e8-9230-ad5d82c61ecf",
     "showTitle": false,
     "tableResultSettingsMap": {},
     "title": ""
    }
   },
   "outputs": [],
   "source": [
    "# UC CATALOG, SCHEMA, INDEX\n",
    "UC_CATALOG = \"users\"\n",
    "UC_SCHEMA = \"alex_miller\"\n",
    "VS_INDEX_NAME = \"vs_batch_example\"\n",
    "SOURCE_TABLE = f\"{UC_CATALOG}.{UC_SCHEMA}.imdb_embeddings\"\n",
    "\n",
    "# VS Endpoint Name\n",
    "VECTOR_SEARCH_ENDPOINT = \"abs_test_temp\"\n",
    "ENDPOINT_TYPE = \"STORAGE_OPTIMIZED\"  # or STANDARD\n",
    "\n",
    "# Index-Name\n",
    "VECTOR_SEARCH_INDEX = f\"{UC_CATALOG}.{UC_SCHEMA}.{VS_INDEX_NAME}\"\n",
    "\n",
    "# Embedding Dimensions\n",
    "EMBEDDING_DIMENSION = 1024\n",
    "\n",
    "# Update sync \n",
    "update_index = False"
   ]
  },
  {
   "cell_type": "code",
   "execution_count": 0,
   "metadata": {
    "application/vnd.databricks.v1+cell": {
     "cellMetadata": {
      "byteLimit": 2048000,
      "rowLimit": 10000
     },
     "inputWidgets": {},
     "nuid": "2e0c161c-b6fb-4671-b0c3-aec8a1ac7974",
     "showTitle": false,
     "tableResultSettingsMap": {},
     "title": ""
    }
   },
   "outputs": [],
   "source": [
    "from databricks.vector_search.client import VectorSearchClient\n",
    "\n",
    "# The following line automatically generates a PAT Token for authentication\n",
    "client = VectorSearchClient()\n",
    "\n",
    "# The following line uses the service principal token for authentication\n",
    "# client = VectorSearchClient(service_principal_client_id=<CLIENT_ID>,service_principal_client_secret=<CLIENT_SECRET>)\n",
    "if client.list_endpoints().get(\"name\", VECTOR_SEARCH_ENDPOINT):\n",
    "  print(\"Endpoint already created.....\")\n",
    "else:\n",
    "  print(f\"Creating endpoint {VECTOR_SEARCH_ENDPOINT}\")\n",
    "  client.create_endpoint_and_wait(\n",
    "      name=VECTOR_SEARCH_ENDPOINT,\n",
    "      endpoint_type=ENDPOINT_TYPE\n",
    "  )"
   ]
  },
  {
   "cell_type": "code",
   "execution_count": 0,
   "metadata": {
    "application/vnd.databricks.v1+cell": {
     "cellMetadata": {
      "byteLimit": 2048000,
      "rowLimit": 10000
     },
     "inputWidgets": {},
     "nuid": "59d94176-4d31-4f2b-8acc-885cd15e10d6",
     "showTitle": false,
     "tableResultSettingsMap": {},
     "title": ""
    }
   },
   "outputs": [],
   "source": [
    "indexes_list = client.list_indexes(VECTOR_SEARCH_ENDPOINT).get(\"vector_indexes\")\n",
    "for index in indexes_list:\n",
    "  if index.get(\"name\", VECTOR_SEARCH_INDEX) == VECTOR_SEARCH_INDEX:\n",
    "    index_created = True\n",
    "    index = client.get_index(index_name=VECTOR_SEARCH_INDEX)\n",
    "    break\n",
    "else:\n",
    "  index_created = False\n",
    "\n",
    "if index_created:\n",
    "  print(f\"{VECTOR_SEARCH_INDEX} already exists.....\")\n",
    "  if update_index:\n",
    "    print(f\"Updating index {VECTOR_SEARCH_INDEX}\")\n",
    "    index.sync()\n",
    "else:\n",
    "  print(f\"Creating index {VECTOR_SEARCH_INDEX}\")\n",
    "  index = client.create_delta_sync_index_and_wait(\n",
    "    endpoint_name=VECTOR_SEARCH_ENDPOINT,\n",
    "    source_table_name=SOURCE_TABLE,\n",
    "    index_name=VECTOR_SEARCH_INDEX,\n",
    "    pipeline_type=\"TRIGGERED\",\n",
    "    primary_key=\"id\",\n",
    "    embedding_dimension=1024,\n",
    "    embedding_vector_column=\"embeddings\"\n",
    "  )"
   ]
  }
 ],
 "metadata": {
  "application/vnd.databricks.v1+notebook": {
   "computePreferences": null,
   "dashboards": [],
   "environmentMetadata": {
    "base_environment": "dbe_c75093c8-0895-475e-8c1b-6acacfe3368b",
    "environment_version": "2"
   },
   "inputWidgetPreferences": null,
   "language": "python",
   "notebookMetadata": {
    "pythonIndentUnit": 2
   },
   "notebookName": "02-create-vector-search-index",
   "widgets": {}
  },
  "language_info": {
   "name": "python"
  }
 },
 "nbformat": 4,
 "nbformat_minor": 0
}
